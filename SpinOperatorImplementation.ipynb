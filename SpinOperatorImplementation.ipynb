{
 "metadata": {
  "name": ""
 },
 "nbformat": 3,
 "nbformat_minor": 0,
 "worksheets": [
  {
   "cells": [
    {
     "cell_type": "code",
     "collapsed": false,
     "input": [
      "from IPython.display import display, Math, Latex\n",
      "import numpy as np\n",
      "import scipy.linalg as la"
     ],
     "language": "python",
     "metadata": {},
     "outputs": [],
     "prompt_number": 1
    },
    {
     "cell_type": "markdown",
     "metadata": {},
     "source": [
      "The goal is to implement the simple Hamiltonian \n",
      "\n",
      "\\begin{align}\n",
      "H = \\sum_{j=1}^N \\hat S_{j}^+ \\hat S_{j+1}^-+\\hat S_{j}^- \\hat S_{j+1}^+\n",
      "\\end{align}\n",
      "\n",
      "To go about this we note that the above notation is actually already a short-hand notation for the longer expression\n",
      "\n",
      "\\begin{align}\n",
      "H = \\sum_{j=1}^N \\mathbb{1}_N \\otimes\\mathbb{1}_{N-1} \\otimes \\dots \\otimes \\mathbb{1}_{j+2} \\otimes \\hat S_{j+1}^+ \\otimes\\hat S_{j}^-\\otimes \\mathbb{1}_{j-1} \\otimes \\dots \\otimes \\mathbb{1}_{1} + \\text{h.c.}\n",
      "\\end{align}\n",
      "\n",
      "where $\\mathbb{1}_j$ are 2x2 identity operators. Notice the order of the indices! This will be important later if we construct the basis states as this will allow for a particularly simple representation. Particularly the site Right of a particle is concatenated from the LEFT. The spin operators are given by"
     ]
    },
    {
     "cell_type": "code",
     "collapsed": false,
     "input": [
      "sx = np.matrix([[0,1] ,[1,0]])\n",
      "sy = np.matrix([[0,-1j] ,[1j,0]])\n",
      "sz = np.matrix([[1,0] ,[0,-1]])\n",
      "sp = (sx+1j*sy)/2\n",
      "sm = (sx-1j*sy)/2\n",
      "id2 = np.matrix([[1,0] ,[0,1]])\n",
      "\n",
      "print 'sx = \\n', sx\n",
      "print 'sy = \\n', sy\n",
      "print 'sz = \\n', sz\n",
      "print 'sp = \\n', sp\n",
      "print 'sm = \\n', sm"
     ],
     "language": "python",
     "metadata": {},
     "outputs": [
      {
       "output_type": "stream",
       "stream": "stdout",
       "text": [
        "sx = \n",
        "[[0 1]\n",
        " [1 0]]\n",
        "sy = \n",
        "[[ 0.+0.j  0.-1.j]\n",
        " [ 0.+1.j  0.+0.j]]\n",
        "sz = \n",
        "[[ 1  0]\n",
        " [ 0 -1]]\n",
        "sp = \n",
        "[[ 0.+0.j  1.+0.j]\n",
        " [ 0.+0.j  0.+0.j]]\n",
        "sm = \n",
        "[[ 0.+0.j  0.+0.j]\n",
        " [ 1.+0.j  0.+0.j]]\n"
       ]
      }
     ],
     "prompt_number": 2
    },
    {
     "cell_type": "markdown",
     "metadata": {},
     "source": [
      "As a local basis I use the notation $|0\\rangle$ for spin down (no particle present) and $|1\\rangle$ for spin up (particle present).\n",
      "\n",
      "To determine what the action of the product of spin-operators are let us look closer at the case of a two site system, i.e. two spin-1/2 operators. The Hamiltonian then simply reads:\n",
      "\\begin{align}\n",
      "H = \\hat S_{1}^+ \\hat S_{2}^-+\\hat S_{1}^- \\hat S_{2}^+\n",
      "\\end{align}\n",
      "\n",
      "To built the set of all possible state we start constructing them from the right"
     ]
    },
    {
     "cell_type": "code",
     "collapsed": false,
     "input": [
      "state = {}\n",
      "state['00'] = np.array([1, 0, 0, 0]) # matrix basis vector (1, 0, 0, 0)\n",
      "state['01'] = np.array([0, 1, 0, 0]) # matrix basis vector (0, 1, 0, 0)\n",
      "state['10'] = np.array([0, 0, 1, 0]) # matrix basis vector (0, 0, 1, 0)\n",
      "state['11'] = np.array([0, 0, 0, 1]) # matrix basis vector (0, 0, 0, 1)\n",
      "\n",
      "print 'Dictionary of all possible states'\n",
      "print state\n"
     ],
     "language": "python",
     "metadata": {},
     "outputs": [
      {
       "output_type": "stream",
       "stream": "stdout",
       "text": [
        "Dictionary of all possible states\n",
        "{'11': array([0, 0, 0, 1]), '10': array([0, 0, 1, 0]), '00': array([1, 0, 0, 0]), '01': array([0, 1, 0, 0])}\n"
       ]
      }
     ],
     "prompt_number": 3
    },
    {
     "cell_type": "markdown",
     "metadata": {},
     "source": [
      "Note that the identifiers of the states are just the binary representations of the decadic numbers 0,1,2,3. The idea is now to construct the Hamiltonian matrix such that state '01' is connected to '10' as this is exactly what the spin-flip operator is doing, i.e. it maps (0,1,0,0) on (0,0,1,0) and vice versa. The action on the other states should result in the same state. To generate the matrix we use the **Kronecker product** that is implemented in any major programming language."
     ]
    },
    {
     "cell_type": "code",
     "collapsed": false,
     "input": [
      "# small function to determine key by virtue of the value. You can ignore the details of that for now\n",
      "def GetKeyByValue(Dict, value):\n",
      "    return [state for state,vector in Dict.iteritems() if (vector == value).all()]"
     ],
     "language": "python",
     "metadata": {},
     "outputs": [],
     "prompt_number": 4
    },
    {
     "cell_type": "code",
     "collapsed": false,
     "input": [
      "# hopping right to left\n",
      "print 'hopping from right to left'\n",
      "rightleft = np.kron(sm,sp) # build the Kronecker product\n",
      "for idx in state.keys():\n",
      "    newstate = np.real(np.dot(rightleft, state[idx])) # calculate the basis state (not physical state) after the hopping is completed\n",
      "    if np.sum(newstate)>0:\n",
      "        print '  particle in state ' + idx + ': hops to '+ GetKeyByValue(state, newstate)[0] # find the pysical state corresponding to the vector newstate\n",
      "    else:\n",
      "        print '  particle in state ' +idx + ': no hop'\n",
      "\n",
      "# hopping right to left\n",
      "print '\\nhopping from left to right'\n",
      "leftright = np.kron(sp,sm)\n",
      "for idx in state.keys():\n",
      "    newstate = np.real(np.dot(leftright, state[idx]))\n",
      "    if np.sum(newstate)>0:\n",
      "        print '  particle in state ' + idx + ': hops to '+ GetKeyByValue(state, newstate)[0]\n",
      "    else:\n",
      "        print '  particle in state ' +idx + ': no hop'\n",
      "\n",
      "print '\\ncomplete Hamiltonian:'\n",
      "print np.real(rightleft+leftright) # Hamiltonian in the above basis representation"
     ],
     "language": "python",
     "metadata": {},
     "outputs": [
      {
       "output_type": "stream",
       "stream": "stdout",
       "text": [
        "hopping from right to left\n",
        "  particle in state 11: no hop\n",
        "  particle in state 10: no hop\n",
        "  particle in state 00: no hop\n",
        "  particle in state 01: hops to 10\n",
        "\n",
        "hopping from left to right\n",
        "  particle in state 11: no hop\n",
        "  particle in state 10: hops to 01\n",
        "  particle in state 00: no hop\n",
        "  particle in state 01: no hop\n",
        "\n",
        "complete Hamiltonian:\n",
        "[[ 0.  0.  0.  0.]\n",
        " [ 0.  0.  1.  0.]\n",
        " [ 0.  1.  0.  0.]\n",
        " [ 0.  0.  0.  0.]]\n"
       ]
      }
     ],
     "prompt_number": 5
    },
    {
     "cell_type": "markdown",
     "metadata": {},
     "source": [
      "We can generalize this procedure now to several particles by using what we already learned. The number of basis states for N spins (sites, particles) is $2^N$. We separate the problem by treating the *bulk* first and then implement the *periodic* boundary conditions. The idea is that we give the function a **bond number** and a **particle number**. The bond number determines which spins are connected and produces the corresponding element in the whole sum. We then call this function iteratively (we iterate over the bonds) to add up every term in the sum and obtain the full Hamiltonian."
     ]
    },
    {
     "cell_type": "code",
     "collapsed": false,
     "input": [
      "def Hamiltonian(bond, N):\n",
      "    \n",
      "    if bond < N-1: # bulk part without the boundary bond\n",
      "        ham = 1\n",
      "        site_idx = 0\n",
      "        while site_idx < N:\n",
      "            if site_idx == bond and site_idx != N-1:\n",
      "                ham = np.kron(sp, np.kron(sm,ham))+np.kron(sm, np.kron(sp,ham))\n",
      "                site_idx += 2\n",
      "            elif site_idx != bond:\n",
      "                ham = np.kron(id2, ham)\n",
      "                site_idx += 1\n",
      "            else:\n",
      "                print 'weird stuff happening (noPBC)'\n",
      "                return\n",
      "    \n",
      "    elif bond == N-1: # periodic boundary condition, treating the boundary bond\n",
      "        ham_left = 1\n",
      "        ham_right = 1\n",
      "        site_idx = 0\n",
      "        while site_idx < N:\n",
      "            if site_idx == 0:\n",
      "                ham_left = np.kron(ham_left,sp)\n",
      "                ham_right = np.kron(ham_right,sm)\n",
      "                site_idx += 1\n",
      "            elif site_idx != bond:\n",
      "                ham_left = np.kron(id2, ham_left)\n",
      "                ham_right = np.kron(id2, ham_right)\n",
      "                site_idx += 1\n",
      "            elif site_idx == bond:\n",
      "                ham_left = np.kron(sm, ham_left)\n",
      "                ham_right = np.kron(sp,ham_right)\n",
      "                site_idx += 1    \n",
      "            else:\n",
      "                print 'weird stuff happening (PBC)'\n",
      "                return\n",
      "        ham = ham_left + ham_right\n",
      "    \n",
      "    else: # treat the exception that bond index is larger than number of sites\n",
      "        print 'bond has to be smaller than number of particles'\n",
      "        return\n",
      "    return np.real(ham)"
     ],
     "language": "python",
     "metadata": {},
     "outputs": [],
     "prompt_number": 6
    },
    {
     "cell_type": "markdown",
     "metadata": {},
     "source": [
      "Note that the implementation of the PBC is slightly different. This is because we have to sandwich the identities between the two spin-operators at the beginning and the end of the chain and we have to do this for the two terms in the sum independently!\n",
      "\n",
      "We can now call the "
     ]
    },
    {
     "cell_type": "code",
     "collapsed": false,
     "input": [
      "def GenerateHamiltonian(number_particles, PBC):\n",
      "    N = number_particles\n",
      "    hopping_hamiltonian = np.zeros((2**N, 2**N))\n",
      "    if N ==2: #prevent double counting of bond for two sites\n",
      "        PBC = 0\n",
      "    \n",
      "    if PBC ==1:\n",
      "        for bond in range(N):\n",
      "            hopping_hamiltonian = hopping_hamiltonian + Hamiltonian(bond, N)\n",
      "    elif PBC ==0:\n",
      "        for bond in range(N-1):\n",
      "            hopping_hamiltonian = hopping_hamiltonian + Hamiltonian(bond, N)\n",
      "    else:\n",
      "        print 'no boundary conditions specified (PBC == 1, no PBC == 0)'\n",
      "        return\n",
      "    \n",
      "    return hopping_hamiltonian"
     ],
     "language": "python",
     "metadata": {},
     "outputs": [],
     "prompt_number": 20
    },
    {
     "cell_type": "code",
     "collapsed": false,
     "input": [
      "def PrintStatesInLocalBasis(number_sites):\n",
      "    N = number_sites\n",
      "    for num in range(2**N):\n",
      "        bin_num_str = bin(num)[2:]\n",
      "        bin_num_str = '0'*(N-len(bin_num_str)) + bin_num_str\n",
      "        print bin_num_str, '--> basis-state', int(bin_num_str,2)"
     ],
     "language": "python",
     "metadata": {},
     "outputs": [],
     "prompt_number": 66
    },
    {
     "cell_type": "code",
     "collapsed": false,
     "input": [
      "print 'various Hamiltonians\\n\\n'\n",
      "print '\\n  two sites:\\n', GenerateHamiltonian(2,1), '\\n  set of states:\\n', PrintStatesInLocalBasis(2)\n",
      "print '\\n\\n  three sites with PBC:\\n', GenerateHamiltonian(3,1), '\\n  set of states:\\n', PrintStatesInLocalBasis(3)\n",
      "print '\\n\\n  three sites no PBC:\\n', GenerateHamiltonian(3,0), '\\n  set of states:\\n', PrintStatesInLocalBasis(3)\n",
      "print '\\n\\n  four sites with PBC:\\n', GenerateHamiltonian(4,1), '\\n  set of states:\\n', PrintStatesInLocalBasis(4)\n",
      "print '\\n\\n  four sites with wrong PBC:\\n', GenerateHamiltonian(4,3)"
     ],
     "language": "python",
     "metadata": {},
     "outputs": [
      {
       "output_type": "stream",
       "stream": "stdout",
       "text": [
        "various Hamiltonians\n",
        "\n",
        "\n",
        "\n",
        "  two sites:\n",
        "[[ 0.  0.  0.  0.]\n",
        " [ 0.  0.  1.  0.]\n",
        " [ 0.  1.  0.  0.]\n",
        " [ 0.  0.  0.  0.]] \n",
        "  set of states:\n",
        "00 --> basis-state 0\n",
        "01 --> basis-state 1\n",
        "10 --> basis-state 2\n",
        "11 --> basis-state 3\n",
        "None\n",
        "\n",
        "\n",
        "  three sites with PBC:\n",
        "[[ 0.  0.  0.  0.  0.  0.  0.  0.]\n",
        " [ 0.  0.  1.  0.  1.  0.  0.  0.]\n",
        " [ 0.  1.  0.  0.  1.  0.  0.  0.]\n",
        " [ 0.  0.  0.  0.  0.  1.  1.  0.]\n",
        " [ 0.  1.  1.  0.  0.  0.  0.  0.]\n",
        " [ 0.  0.  0.  1.  0.  0.  1.  0.]\n",
        " [ 0.  0.  0.  1.  0.  1.  0.  0.]\n",
        " [ 0.  0.  0.  0.  0.  0.  0.  0.]] \n",
        "  set of states:\n",
        "000 --> basis-state 0\n",
        "001 --> basis-state 1\n",
        "010 --> basis-state 2\n",
        "011 --> basis-state 3\n",
        "100 --> basis-state 4\n",
        "101 --> basis-state 5\n",
        "110 --> basis-state 6\n",
        "111 --> basis-state 7\n",
        "None\n",
        "\n",
        "\n",
        "  three sites no PBC:\n",
        "[[ 0.  0.  0.  0.  0.  0.  0.  0.]\n",
        " [ 0.  0.  1.  0.  0.  0.  0.  0.]\n",
        " [ 0.  1.  0.  0.  1.  0.  0.  0.]\n",
        " [ 0.  0.  0.  0.  0.  1.  0.  0.]\n",
        " [ 0.  0.  1.  0.  0.  0.  0.  0.]\n",
        " [ 0.  0.  0.  1.  0.  0.  1.  0.]\n",
        " [ 0.  0.  0.  0.  0.  1.  0.  0.]\n",
        " [ 0.  0.  0.  0.  0.  0.  0.  0.]] \n",
        "  set of states:\n",
        "000 --> basis-state 0\n",
        "001 --> basis-state 1\n",
        "010 --> basis-state 2\n",
        "011 --> basis-state 3\n",
        "100 --> basis-state 4\n",
        "101 --> basis-state 5\n",
        "110 --> basis-state 6\n",
        "111 --> basis-state 7\n",
        "None\n",
        "\n",
        "\n",
        "  four sites with PBC:\n",
        "[[ 0.  0.  0.  0.  0.  0.  0.  0.  0.  0.  0.  0.  0.  0.  0.  0.]\n",
        " [ 0.  0.  1.  0.  0.  0.  0.  0.  1.  0.  0.  0.  0.  0.  0.  0.]\n",
        " [ 0.  1.  0.  0.  1.  0.  0.  0.  0.  0.  0.  0.  0.  0.  0.  0.]\n",
        " [ 0.  0.  0.  0.  0.  1.  0.  0.  0.  0.  1.  0.  0.  0.  0.  0.]\n",
        " [ 0.  0.  1.  0.  0.  0.  0.  0.  1.  0.  0.  0.  0.  0.  0.  0.]\n",
        " [ 0.  0.  0.  1.  0.  0.  1.  0.  0.  1.  0.  0.  1.  0.  0.  0.]\n",
        " [ 0.  0.  0.  0.  0.  1.  0.  0.  0.  0.  1.  0.  0.  0.  0.  0.]\n",
        " [ 0.  0.  0.  0.  0.  0.  0.  0.  0.  0.  0.  1.  0.  0.  1.  0.]\n",
        " [ 0.  1.  0.  0.  1.  0.  0.  0.  0.  0.  0.  0.  0.  0.  0.  0.]\n",
        " [ 0.  0.  0.  0.  0.  1.  0.  0.  0.  0.  1.  0.  0.  0.  0.  0.]\n",
        " [ 0.  0.  0.  1.  0.  0.  1.  0.  0.  1.  0.  0.  1.  0.  0.  0.]\n",
        " [ 0.  0.  0.  0.  0.  0.  0.  1.  0.  0.  0.  0.  0.  1.  0.  0.]\n",
        " [ 0.  0.  0.  0.  0.  1.  0.  0.  0.  0.  1.  0.  0.  0.  0.  0.]\n",
        " [ 0.  0.  0.  0.  0.  0.  0.  0.  0.  0.  0.  1.  0.  0.  1.  0.]\n",
        " [ 0.  0.  0.  0.  0.  0.  0.  1.  0.  0.  0.  0.  0.  1.  0.  0.]\n",
        " [ 0.  0.  0.  0.  0.  0.  0.  0.  0.  0.  0.  0.  0.  0.  0.  0.]] \n",
        "  set of states:\n",
        "0000 --> basis-state 0\n",
        "0001 --> basis-state 1\n",
        "0010 --> basis-state 2\n",
        "0011 --> basis-state 3\n",
        "0100 --> basis-state 4\n",
        "0101 --> basis-state 5\n",
        "0110 --> basis-state 6\n",
        "0111 --> basis-state 7\n",
        "1000 --> basis-state 8\n",
        "1001 --> basis-state 9\n",
        "1010 --> basis-state 10\n",
        "1011 --> basis-state 11\n",
        "1100 --> basis-state 12\n",
        "1101 --> basis-state 13\n",
        "1110 --> basis-state 14\n",
        "1111 --> basis-state 15\n",
        "None\n",
        "\n",
        "\n",
        "  four sites with wrong PBC:\n",
        "no boundary conditions specified (PBC == 1, no PBC == 0)\n",
        "None\n"
       ]
      }
     ],
     "prompt_number": 67
    }
   ],
   "metadata": {}
  }
 ]
}